{
 "cells": [
  {
   "cell_type": "code",
   "execution_count": 1,
   "id": "23add7db",
   "metadata": {},
   "outputs": [],
   "source": [
    "import onnx\n",
    "from onnx import helper\n",
    "from onnx import AttributeProto, TensorProto, GraphProto\n",
    "\n",
    "import numpy as np"
   ]
  },
  {
   "cell_type": "markdown",
   "id": "3d3a8d9d",
   "metadata": {},
   "source": [
    "### example on https://github.com/onnx/onnx/blob/master/onnx/examples/make_model.ipynb and https://github.com/onnx/onnx/blob/master/onnx/examples/Protobufs.ipynb\n",
    "### https://github.com/onnx/onnx/blob/master/docs/Operators.md lists creation of many operators"
   ]
  },
  {
   "cell_type": "code",
   "execution_count": 2,
   "id": "4cfac9b8",
   "metadata": {},
   "outputs": [
    {
     "name": "stdout",
     "output_type": "stream",
     "text": [
      "The producer_name in model: onnx-example\n",
      "\n",
      "The graph in model:\n",
      "node {\n",
      "  input: \"X\"\n",
      "  input: \"Pads\"\n",
      "  output: \"Y\"\n",
      "  op_type: \"Pad\"\n",
      "  attribute {\n",
      "    name: \"mode\"\n",
      "    s: \"constant\"\n",
      "    type: STRING\n",
      "  }\n",
      "}\n",
      "name: \"test-model\"\n",
      "initializer {\n",
      "  dims: 4\n",
      "  data_type: 7\n",
      "  int64_data: 0\n",
      "  int64_data: 0\n",
      "  int64_data: 1\n",
      "  int64_data: 1\n",
      "  name: \"Pads\"\n",
      "}\n",
      "input {\n",
      "  name: \"X\"\n",
      "  type {\n",
      "    tensor_type {\n",
      "      elem_type: 1\n",
      "      shape {\n",
      "        dim {\n",
      "          dim_value: 1\n",
      "        }\n",
      "        dim {\n",
      "          dim_value: 2\n",
      "        }\n",
      "      }\n",
      "    }\n",
      "  }\n",
      "}\n",
      "input {\n",
      "  name: \"Pads\"\n",
      "  type {\n",
      "    tensor_type {\n",
      "      elem_type: 7\n",
      "      shape {\n",
      "        dim {\n",
      "          dim_value: 4\n",
      "        }\n",
      "      }\n",
      "    }\n",
      "  }\n",
      "}\n",
      "output {\n",
      "  name: \"Y\"\n",
      "  type {\n",
      "    tensor_type {\n",
      "      elem_type: 1\n",
      "      shape {\n",
      "        dim {\n",
      "          dim_value: 1\n",
      "        }\n",
      "        dim {\n",
      "          dim_value: 4\n",
      "        }\n",
      "      }\n",
      "    }\n",
      "  }\n",
      "}\n",
      "\n",
      "The model is checked!\n"
     ]
    }
   ],
   "source": [
    "# Create one input (ValueInfoProto)\n",
    "X = helper.make_tensor_value_info('X', TensorProto.FLOAT, [1, 2])\n",
    "\n",
    "# Create second input (ValueInfoProto)\n",
    "Pads = helper.make_tensor_value_info('Pads', TensorProto.INT64, [4])\n",
    "\n",
    "# Create one output (ValueInfoProto)\n",
    "Y = helper.make_tensor_value_info('Y', TensorProto.FLOAT, [1, 4])\n",
    "\n",
    "# Create a node (NodeProto)\n",
    "node_def = helper.make_node(\n",
    "    'Pad', # node name\n",
    "    ['X', 'Pads'], # inputs\n",
    "    ['Y'], # outputs\n",
    "    mode='constant', # Attributes\n",
    ")\n",
    "\n",
    "# Create the graph (GraphProto)\n",
    "graph_def = helper.make_graph(\n",
    "    [node_def],\n",
    "    \"test-model\",\n",
    "    [X, Pads],\n",
    "    [Y],\n",
    "    [helper.make_tensor('Pads', TensorProto.INT64, [4,], [0, 0, 1, 1,])],\n",
    ")\n",
    "\n",
    "# Create the model (ModelProto)\n",
    "model_def = helper.make_model(graph_def,\n",
    "                              producer_name='onnx-example')\n",
    "\n",
    "print('The producer_name in model: {}\\n'.format(model_def.producer_name))\n",
    "print('The graph in model:\\n{}'.format(model_def.graph))\n",
    "onnx.checker.check_model(model_def)\n",
    "print('The model is checked!')"
   ]
  },
  {
   "cell_type": "code",
   "execution_count": 5,
   "id": "84558c0f",
   "metadata": {},
   "outputs": [],
   "source": [
    "onnx.save_model(model_def, './play.onnx')"
   ]
  },
  {
   "cell_type": "markdown",
   "id": "1c9d3c55",
   "metadata": {},
   "source": [
    "### fully connected layer"
   ]
  },
  {
   "cell_type": "markdown",
   "id": "b19aa698",
   "metadata": {},
   "source": [
    "onnx does not support FC currently. There are two ways:\n",
    "1. Gemm \n",
    "2. Matmul + Add"
   ]
  },
  {
   "cell_type": "code",
   "execution_count": 3,
   "id": "b4018fd5",
   "metadata": {},
   "outputs": [
    {
     "name": "stdout",
     "output_type": "stream",
     "text": [
      "pass check\n"
     ]
    }
   ],
   "source": [
    "num_neuron = 8\n",
    "num_type = 2\n",
    "\n",
    "# make_graph init takes 1d array\n",
    "W = np.random.randn(num_neuron, num_type).astype(np.float32).flatten()\n",
    "B = np.random.rand(1, num_type).astype(np.float32).flatten()\n",
    "\n",
    "fc_graph_def = helper.make_graph(\n",
    "    # node\n",
    "    [\n",
    "        helper.make_node(\"MatMul\", [\"X\", \"W\"], [\"I1\"]),\n",
    "        helper.make_node(\"Add\", [\"I1\", \"B\"], [\"Y\"])\n",
    "    ],\n",
    "    # name\n",
    "    \"FC\",\n",
    "    # input def\n",
    "    [\n",
    "        helper.make_tensor_value_info('X', TensorProto.FLOAT, [1, num_neuron]),\n",
    "        helper.make_tensor_value_info('W', TensorProto.FLOAT, [num_neuron, num_type]),\n",
    "        helper.make_tensor_value_info(\"B\", TensorProto.FLOAT, [1, num_type])\n",
    "    ],\n",
    "    # output def\n",
    "    [\n",
    "        helper.make_tensor_value_info('Y', TensorProto.FLOAT, [1, num_type])\n",
    "    ], \n",
    "    # init\n",
    "    [\n",
    "        helper.make_tensor('W', TensorProto.FLOAT, [num_neuron, num_type], W),\n",
    "        helper.make_tensor('B', TensorProto.FLOAT, [1, num_type], B)\n",
    "    ]\n",
    ")\n",
    "\n",
    "fc_model_def = helper.make_model(fc_graph_def,\n",
    "                                producer_name='onnx-builder')\n",
    "\n",
    "onnx.checker.check_model(fc_model_def)\n",
    "print(\"pass check\")"
   ]
  },
  {
   "cell_type": "code",
   "execution_count": 4,
   "id": "6a09257b",
   "metadata": {},
   "outputs": [],
   "source": [
    "onnx.save_model(fc_model_def, './fc_8_2.onnx')"
   ]
  },
  {
   "cell_type": "code",
   "execution_count": null,
   "id": "8ecd689c",
   "metadata": {},
   "outputs": [],
   "source": []
  }
 ],
 "metadata": {
  "kernelspec": {
   "display_name": "ml_decompiler",
   "language": "python",
   "name": "ml_decompiler"
  },
  "language_info": {
   "codemirror_mode": {
    "name": "ipython",
    "version": 3
   },
   "file_extension": ".py",
   "mimetype": "text/x-python",
   "name": "python",
   "nbconvert_exporter": "python",
   "pygments_lexer": "ipython3",
   "version": "3.8.10"
  }
 },
 "nbformat": 4,
 "nbformat_minor": 5
}
